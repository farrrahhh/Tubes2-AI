{
  "cells": [
    {
      "cell_type": "markdown",
      "metadata": {
        "id": "uR1JW69eLfG_"
      },
      "source": [
        "# IF3070 Foundations of Artificial Intelligence | Tugas Besar 2\n",
        "\n",
        "This notebook serves as a template for the assignment. Please create a copy of this notebook to complete your work. You can add more code blocks, markdown blocks, or new sections if needed.\n"
      ]
    },
    {
      "cell_type": "markdown",
      "metadata": {
        "id": "ucbaI5rBLtjJ"
      },
      "source": [
        "Group Number: 10\n",
        "\n",
        "Group Members:\n",
        "- Clement Nathanael Lim (18222032)\n",
        "- Mattheuw Suciadi Wijaya (18222048)\n",
        "- Hartanto Luwis (18222064)\n",
        "- Farah Aulia (18222096)"
      ]
    },
    {
      "cell_type": "markdown",
      "metadata": {
        "id": "GwzsfETHLfHA"
      },
      "source": [
        "## Import Libraries"
      ]
    },
    {
      "cell_type": "code",
      "execution_count": 1,
      "metadata": {
        "id": "jZJU5W_4LfHB"
      },
      "outputs": [],
      "source": [
        "import pandas as pd\n",
        "import numpy as np\n",
        "from sklearn.impute import KNNImputer, SimpleImputer\n",
        "from sklearn.preprocessing import StandardScaler, OneHotEncoder, RobustScaler, MinMaxScaler, LabelEncoder\n",
        "from sklearn.base import BaseEstimator, TransformerMixin\n",
        "from sklearn.compose import ColumnTransformer\n",
        "from sklearn.pipeline import Pipeline\n",
        "from sklearn.model_selection import train_test_split\n",
        "from sklearn.metrics import accuracy_score, classification_report, f1_score\n",
        "from sklearn.neighbors import KNeighborsClassifier\n",
        "from scipy.stats import chi2_contingency\n",
        "import matplotlib.pyplot as plt\n",
        "import seaborn as sn\n",
        "import pickle\n",
        "from typing import Any\n",
        "from sklearn.metrics import confusion_matrix\n",
        "import seaborn as sns\n",
        "import matplotlib.pyplot as plt\n"
      ]
    },
    {
      "cell_type": "markdown",
      "metadata": {
        "id": "OKbjLIdYLfHC"
      },
      "source": [
        "## Import Dataset"
      ]
    },
    {
      "cell_type": "code",
      "execution_count": 142,
      "metadata": {
        "colab": {
          "base_uri": "https://localhost:8080/",
          "height": 256
        },
        "id": "-IWFJ-gdLfHD",
        "outputId": "0f54a5ea-e388-4ec8-e9ed-48c5c84ab50d"
      },
      "outputs": [
        {
          "data": {
            "text/html": [
              "<div>\n",
              "<style scoped>\n",
              "    .dataframe tbody tr th:only-of-type {\n",
              "        vertical-align: middle;\n",
              "    }\n",
              "\n",
              "    .dataframe tbody tr th {\n",
              "        vertical-align: top;\n",
              "    }\n",
              "\n",
              "    .dataframe thead th {\n",
              "        text-align: right;\n",
              "    }\n",
              "</style>\n",
              "<table border=\"1\" class=\"dataframe\">\n",
              "  <thead>\n",
              "    <tr style=\"text-align: right;\">\n",
              "      <th></th>\n",
              "      <th>id</th>\n",
              "      <th>FILENAME</th>\n",
              "      <th>URL</th>\n",
              "      <th>URLLength</th>\n",
              "      <th>Domain</th>\n",
              "      <th>DomainLength</th>\n",
              "      <th>IsDomainIP</th>\n",
              "      <th>TLD</th>\n",
              "      <th>CharContinuationRate</th>\n",
              "      <th>TLDLegitimateProb</th>\n",
              "      <th>...</th>\n",
              "      <th>Pay</th>\n",
              "      <th>Crypto</th>\n",
              "      <th>HasCopyrightInfo</th>\n",
              "      <th>NoOfImage</th>\n",
              "      <th>NoOfCSS</th>\n",
              "      <th>NoOfJS</th>\n",
              "      <th>NoOfSelfRef</th>\n",
              "      <th>NoOfEmptyRef</th>\n",
              "      <th>NoOfExternalRef</th>\n",
              "      <th>label</th>\n",
              "    </tr>\n",
              "  </thead>\n",
              "  <tbody>\n",
              "    <tr>\n",
              "      <th>0</th>\n",
              "      <td>1</td>\n",
              "      <td>NaN</td>\n",
              "      <td>https://www.northcm.ac.th</td>\n",
              "      <td>24.0</td>\n",
              "      <td>www.northcm.ac.th</td>\n",
              "      <td>17.0</td>\n",
              "      <td>0.0</td>\n",
              "      <td>NaN</td>\n",
              "      <td>0.800000</td>\n",
              "      <td>NaN</td>\n",
              "      <td>...</td>\n",
              "      <td>0.0</td>\n",
              "      <td>0.0</td>\n",
              "      <td>1.0</td>\n",
              "      <td>NaN</td>\n",
              "      <td>3.0</td>\n",
              "      <td>NaN</td>\n",
              "      <td>69.0</td>\n",
              "      <td>NaN</td>\n",
              "      <td>NaN</td>\n",
              "      <td>1</td>\n",
              "    </tr>\n",
              "    <tr>\n",
              "      <th>1</th>\n",
              "      <td>4</td>\n",
              "      <td>8135291.txt</td>\n",
              "      <td>http://uqr.to/1il1z</td>\n",
              "      <td>NaN</td>\n",
              "      <td>NaN</td>\n",
              "      <td>NaN</td>\n",
              "      <td>NaN</td>\n",
              "      <td>to</td>\n",
              "      <td>1.000000</td>\n",
              "      <td>0.000896</td>\n",
              "      <td>...</td>\n",
              "      <td>NaN</td>\n",
              "      <td>0.0</td>\n",
              "      <td>0.0</td>\n",
              "      <td>NaN</td>\n",
              "      <td>NaN</td>\n",
              "      <td>NaN</td>\n",
              "      <td>NaN</td>\n",
              "      <td>NaN</td>\n",
              "      <td>1.0</td>\n",
              "      <td>0</td>\n",
              "    </tr>\n",
              "    <tr>\n",
              "      <th>2</th>\n",
              "      <td>5</td>\n",
              "      <td>586561.txt</td>\n",
              "      <td>https://www.woolworthsrewards.com.au</td>\n",
              "      <td>35.0</td>\n",
              "      <td>www.woolworthsrewards.com.au</td>\n",
              "      <td>28.0</td>\n",
              "      <td>0.0</td>\n",
              "      <td>au</td>\n",
              "      <td>0.857143</td>\n",
              "      <td>NaN</td>\n",
              "      <td>...</td>\n",
              "      <td>1.0</td>\n",
              "      <td>0.0</td>\n",
              "      <td>1.0</td>\n",
              "      <td>33.0</td>\n",
              "      <td>7.0</td>\n",
              "      <td>8.0</td>\n",
              "      <td>15.0</td>\n",
              "      <td>NaN</td>\n",
              "      <td>2.0</td>\n",
              "      <td>1</td>\n",
              "    </tr>\n",
              "    <tr>\n",
              "      <th>3</th>\n",
              "      <td>6</td>\n",
              "      <td>NaN</td>\n",
              "      <td>NaN</td>\n",
              "      <td>31.0</td>\n",
              "      <td>NaN</td>\n",
              "      <td>NaN</td>\n",
              "      <td>NaN</td>\n",
              "      <td>com</td>\n",
              "      <td>0.562500</td>\n",
              "      <td>0.522907</td>\n",
              "      <td>...</td>\n",
              "      <td>1.0</td>\n",
              "      <td>0.0</td>\n",
              "      <td>1.0</td>\n",
              "      <td>24.0</td>\n",
              "      <td>5.0</td>\n",
              "      <td>14.0</td>\n",
              "      <td>NaN</td>\n",
              "      <td>NaN</td>\n",
              "      <td>NaN</td>\n",
              "      <td>1</td>\n",
              "    </tr>\n",
              "    <tr>\n",
              "      <th>4</th>\n",
              "      <td>11</td>\n",
              "      <td>412632.txt</td>\n",
              "      <td>NaN</td>\n",
              "      <td>NaN</td>\n",
              "      <td>www.nyprowrestling.com</td>\n",
              "      <td>22.0</td>\n",
              "      <td>0.0</td>\n",
              "      <td>NaN</td>\n",
              "      <td>1.000000</td>\n",
              "      <td>NaN</td>\n",
              "      <td>...</td>\n",
              "      <td>0.0</td>\n",
              "      <td>0.0</td>\n",
              "      <td>1.0</td>\n",
              "      <td>NaN</td>\n",
              "      <td>NaN</td>\n",
              "      <td>14.0</td>\n",
              "      <td>NaN</td>\n",
              "      <td>0.0</td>\n",
              "      <td>NaN</td>\n",
              "      <td>1</td>\n",
              "    </tr>\n",
              "  </tbody>\n",
              "</table>\n",
              "<p>5 rows × 56 columns</p>\n",
              "</div>"
            ],
            "text/plain": [
              "   id     FILENAME                                   URL  URLLength  \\\n",
              "0   1          NaN             https://www.northcm.ac.th       24.0   \n",
              "1   4  8135291.txt                   http://uqr.to/1il1z        NaN   \n",
              "2   5   586561.txt  https://www.woolworthsrewards.com.au       35.0   \n",
              "3   6          NaN                                   NaN       31.0   \n",
              "4  11   412632.txt                                   NaN        NaN   \n",
              "\n",
              "                         Domain  DomainLength  IsDomainIP  TLD  \\\n",
              "0             www.northcm.ac.th          17.0         0.0  NaN   \n",
              "1                           NaN           NaN         NaN   to   \n",
              "2  www.woolworthsrewards.com.au          28.0         0.0   au   \n",
              "3                           NaN           NaN         NaN  com   \n",
              "4        www.nyprowrestling.com          22.0         0.0  NaN   \n",
              "\n",
              "   CharContinuationRate  TLDLegitimateProb  ...  Pay  Crypto  \\\n",
              "0              0.800000                NaN  ...  0.0     0.0   \n",
              "1              1.000000           0.000896  ...  NaN     0.0   \n",
              "2              0.857143                NaN  ...  1.0     0.0   \n",
              "3              0.562500           0.522907  ...  1.0     0.0   \n",
              "4              1.000000                NaN  ...  0.0     0.0   \n",
              "\n",
              "   HasCopyrightInfo  NoOfImage  NoOfCSS  NoOfJS  NoOfSelfRef  NoOfEmptyRef  \\\n",
              "0               1.0        NaN      3.0     NaN         69.0           NaN   \n",
              "1               0.0        NaN      NaN     NaN          NaN           NaN   \n",
              "2               1.0       33.0      7.0     8.0         15.0           NaN   \n",
              "3               1.0       24.0      5.0    14.0          NaN           NaN   \n",
              "4               1.0        NaN      NaN    14.0          NaN           0.0   \n",
              "\n",
              "   NoOfExternalRef  label  \n",
              "0              NaN      1  \n",
              "1              1.0      0  \n",
              "2              2.0      1  \n",
              "3              NaN      1  \n",
              "4              NaN      1  \n",
              "\n",
              "[5 rows x 56 columns]"
            ]
          },
          "execution_count": 142,
          "metadata": {},
          "output_type": "execute_result"
        }
      ],
      "source": [
        "df = pd.read_csv('https://drive.google.com/uc?id=1GZlJN03cI4o42N-EOCu_buY9t6ybSiYd')\n",
        "df.head()"
      ]
    },
    {
      "cell_type": "markdown",
      "metadata": {
        "id": "gvx-gT3bLfHM"
      },
      "source": [
        "# 1. Split Training Set and Validation Set\n",
        "\n",
        "Splitting the training and validation set works as an early diagnostic towards the performance of the model we train. This is done before the preprocessing steps to **avoid data leakage inbetween the sets**. If you want to use k-fold cross-validation, split the data later and do the cleaning and preprocessing separately for each split.\n",
        "\n",
        "Note: For training, you should use the data contained in the `train` folder given by the TA. The `test` data is only used for kaggle submission."
      ]
    },
    {
      "cell_type": "code",
      "execution_count": 143,
      "metadata": {
        "colab": {
          "base_uri": "https://localhost:8080/"
        },
        "id": "4yWCUFFBLfHM",
        "outputId": "7999c666-754d-46a4-942e-7f6a3a88a9f0"
      },
      "outputs": [
        {
          "name": "stdout",
          "output_type": "stream",
          "text": [
            "Ukuran training set: 112323\n",
            "Ukuran validation set: 28081\n"
          ]
        }
      ],
      "source": [
        "# Membagi data 80 20, 80% training 20% validation\n",
        "\n",
        "original_train_set = df.copy()\n",
        "\n",
        "X = original_train_set.drop(columns=['label'])  # Fitur\n",
        "y = original_train_set['label']  # Target/label\n",
        "\n",
        "# Split data menjadi train_set dan val_set\n",
        "X_train, X_val, y_train, y_val = train_test_split(X, y, test_size=0.2, random_state=42, stratify=y)\n",
        "\n",
        "print(f\"Ukuran training set: {X_train.shape[0]}\")\n",
        "print(f\"Ukuran validation set: {X_val.shape[0]}\")\n"
      ]
    },
    {
      "cell_type": "markdown",
      "metadata": {
        "id": "IC14lmo_LfHN"
      },
      "source": [
        "# 2. Data Cleaning and Preprocessing\n",
        "\n",
        "This step is the first thing to be done once a Data Scientist have grasped a general knowledge of the data. Raw data is **seldom ready for training**, therefore steps need to be taken to clean and format the data for the Machine Learning model to interpret.\n",
        "\n",
        "By performing data cleaning and preprocessing, you ensure that your dataset is ready for model training, leading to more accurate and reliable machine learning results. These steps are essential for transforming raw data into a format that machine learning algorithms can effectively learn from and make predictions.\n",
        "\n",
        "We will give some common methods for you to try, but you only have to **at least implement one method for each process**. For each step that you will do, **please explain the reason why did you do that process. Write it in a markdown cell under the code cell you wrote.**"
      ]
    },
    {
      "cell_type": "markdown",
      "metadata": {
        "id": "p95_A8hSLfHY"
      },
      "source": [
        "## A. Data Cleaning\n",
        "\n",
        "**Data cleaning** is the crucial first step in preparing your dataset for machine learning. Raw data collected from various sources is often messy and may contain errors, missing values, and inconsistencies. Data cleaning involves the following steps:\n",
        "\n",
        "1. **Handling Missing Data:** Identify and address missing values in the dataset. This can include imputing missing values, removing rows or columns with excessive missing data, or using more advanced techniques like interpolation.\n",
        "\n",
        "2. **Dealing with Outliers:** Identify and handle outliers, which are data points significantly different from the rest of the dataset. Outliers can be removed or transformed to improve model performance.\n",
        "\n",
        "3. **Data Validation:** Check for data integrity and consistency. Ensure that data types are correct, categorical variables have consistent labels, and numerical values fall within expected ranges.\n",
        "\n",
        "4. **Removing Duplicates:** Identify and remove duplicate rows, as they can skew the model's training process and evaluation metrics.\n",
        "\n",
        "5. **Feature Engineering**: Create new features or modify existing ones to extract relevant information. This step can involve scaling, normalizing, or encoding features for better model interpretability."
      ]
    },
    {
      "cell_type": "markdown",
      "metadata": {
        "id": "_wruGao9LfHZ"
      },
      "source": [
        "### I. Handling Missing Data\n",
        "\n",
        "Missing data can adversely affect the performance and accuracy of machine learning models. There are several strategies to handle missing data in machine learning:\n",
        "\n",
        "1. **Data Imputation:**\n",
        "\n",
        "    a. **Mean, Median, or Mode Imputation:** For numerical features, you can replace missing values with the mean, median, or mode of the non-missing values in the same feature. This method is simple and often effective when data is missing at random.\n",
        "\n",
        "    b. **Constant Value Imputation:** You can replace missing values with a predefined constant value (e.g., 0) if it makes sense for your dataset and problem.\n",
        "\n",
        "    c. **Imputation Using Predictive Models:** More advanced techniques involve using predictive models to estimate missing values. For example, you can train a regression model to predict missing numerical values or a classification model to predict missing categorical values.\n",
        "\n",
        "2. **Deletion of Missing Data:**\n",
        "\n",
        "    a. **Listwise Deletion:** In cases where the amount of missing data is relatively small, you can simply remove rows with missing values from your dataset. However, this approach can lead to a loss of valuable information.\n",
        "\n",
        "    b. **Column (Feature) Deletion:** If a feature has a large number of missing values and is not critical for your analysis, you can consider removing that feature altogether.\n",
        "\n",
        "3. **Domain-Specific Strategies:**\n",
        "\n",
        "    a. **Domain Knowledge:** In some cases, domain knowledge can guide the imputation process. For example, if you know that missing values are related to a specific condition, you can impute them accordingly.\n",
        "\n",
        "4. **Imputation Libraries:**\n",
        "\n",
        "    a. **Scikit-Learn:** Scikit-Learn provides a `SimpleImputer` class that can handle basic imputation strategies like mean, median, and mode imputation.\n",
        "\n",
        "    b. **Fancyimpute:** Fancyimpute is a Python library that offers more advanced imputation techniques, including matrix factorization, k-nearest neighbors, and deep learning-based methods.\n",
        "\n",
        "The choice of imputation method should be guided by the nature of your data, the amount of missing data, the problem you are trying to solve, and the assumptions you are willing to make."
      ]
    },
    {
      "cell_type": "code",
      "execution_count": 129,
      "metadata": {
        "id": "WtM7vgWzKMPD"
      },
      "outputs": [],
      "source": [
        "class Imputer(BaseEstimator, TransformerMixin):\n",
        "    def __init__(self, numerical_strategy='median', categorical_strategy='most_frequent'):\n",
        "        self.numerical_strategy = numerical_strategy\n",
        "        self.categorical_strategy = categorical_strategy\n",
        "\n",
        "    def fit(self, X, y=None):\n",
        "        # Kolom yang masih ada di X\n",
        "        current_numerical = [col for col in numerical_columns if col in X.columns]\n",
        "        current_categorical = [col for col in categorical_columns if col in X.columns]\n",
        "\n",
        "        self.num_imputer_ = SimpleImputer(strategy=self.numerical_strategy)\n",
        "        self.cat_imputer_ = SimpleImputer(strategy=self.categorical_strategy)\n",
        "\n",
        "        self.num_imputer_.fit(X[current_numerical])\n",
        "        self.cat_imputer_.fit(X[current_categorical])\n",
        "        return self\n",
        "\n",
        "    def transform(self, X):\n",
        "        X = X.copy()\n",
        "        current_numerical = [col for col in numerical_columns if col in X.columns]\n",
        "        current_categorical = [col for col in categorical_columns if col in X.columns]\n",
        "\n",
        "        X[current_numerical] = self.num_imputer_.transform(X[current_numerical])\n",
        "        X[current_categorical] = self.cat_imputer_.transform(X[current_categorical])\n",
        "        return X"
      ]
    },
    {
      "cell_type": "markdown",
      "metadata": {
        "id": "P59PHNXxkBhw"
      },
      "source": [
        "Kode di atas adalah handling missing values sederhana dengan menggunakan mean untuk numerical dan most frequent untuk kategorical.Hal ini dilakukan karena teknik imputation dengan Fancyimpute seperti knn menggunakan resource yang besar dan tidak bisa dijalankan."
      ]
    },
    {
      "cell_type": "markdown",
      "metadata": {
        "id": "zgrSMcK75VY_"
      },
      "source": [
        "### II. Dealing with Outliers\n",
        "\n",
        "Outliers are data points that significantly differ from the majority of the data. They can be unusually high or low values that do not fit the pattern of the rest of the dataset. Outliers can significantly impact model performance, so it is important to handle them properly.\n",
        "\n",
        "Some methods to handle outliers:\n",
        "1. **Imputation**: Replace with mean, median, or a boundary value.\n",
        "2. **Clipping**: Cap values to upper and lower limits.\n",
        "3. **Transformation**: Use log, square root, or power transformations to reduce their influence.\n",
        "4. **Model-Based**: Use algorithms robust to outliers (e.g., tree-based models, Huber regression)."
      ]
    },
    {
      "cell_type": "code",
      "execution_count": 130,
      "metadata": {
        "id": "2liHuFKYeMsR"
      },
      "outputs": [],
      "source": [
        "class OutlierRemover(BaseEstimator, TransformerMixin):\n",
        "    def __init__(self, method='IQR', threshold=1.5):\n",
        "        self.method = method\n",
        "        self.threshold = threshold\n",
        "\n",
        "    def fit(self, X, y=None):\n",
        "        self.lower_bounds_ = {}\n",
        "        self.upper_bounds_ = {}\n",
        "        self.medians_ = {}\n",
        "        current_numerical = [col for col in numerical_columns if col in X.columns]\n",
        "\n",
        "        for column in current_numerical:\n",
        "            q1 = X[column].quantile(0.25)\n",
        "            q3 = X[column].quantile(0.75)\n",
        "            iqr = q3 - q1\n",
        "            lower_bound = q1 - self.threshold * iqr\n",
        "            upper_bound = q3 + self.threshold * iqr\n",
        "            median = X[column].median()\n",
        "            self.lower_bounds_[column] = lower_bound\n",
        "            self.upper_bounds_[column] = upper_bound\n",
        "            self.medians_[column] = median\n",
        "        return self"
      ]
    },
    {
      "cell_type": "markdown",
      "metadata": {
        "id": "aO0ZEZ-s6Lu-"
      },
      "source": [
        "### III. Remove Duplicates\n",
        "Handling duplicate values is crucial because they can compromise data integrity, leading to inaccurate analysis and insights. Duplicate entries can bias machine learning models, causing overfitting and reducing their ability to generalize to new data. They also inflate the dataset size unnecessarily, increasing computational costs and processing times. Additionally, duplicates can distort statistical measures and lead to inconsistencies, ultimately affecting the reliability of data-driven decisions and reporting. Ensuring data quality by removing duplicates is essential for accurate, efficient, and consistent analysis."
      ]
    },
    {
      "cell_type": "code",
      "execution_count": 131,
      "metadata": {
        "id": "BHCkkZ-v7iF8"
      },
      "outputs": [],
      "source": [
        "class DuplicateRemover(BaseEstimator, TransformerMixin):\n",
        "    def __init__(self, axis=0):\n",
        "        self.axis = axis\n",
        "\n",
        "    def fit(self, X, y=None):\n",
        "        return self\n",
        "\n",
        "    def transform(self, X):\n",
        "        if isinstance(X, pd.DataFrame):\n",
        "            if self.axis == 0:\n",
        "                X_cleaned = X.drop_duplicates()  # Hapus baris duplikat\n",
        "            elif self.axis == 1:\n",
        "                X_cleaned = X.T.drop_duplicates().T  # Hapus kolom duplikat\n",
        "            else:\n",
        "                raise ValueError(\"Axis harus 0 (baris) atau 1 (kolom).\")\n",
        "        elif isinstance(X, np.ndarray):\n",
        "            if self.axis == 0:\n",
        "                X_cleaned = np.unique(X, axis=0)  # Hapus baris duplikat\n",
        "            elif self.axis == 1:\n",
        "                X_cleaned = np.unique(X.T, axis=0).T  # Hapus kolom duplikat\n",
        "            else:\n",
        "                raise ValueError(\"Axis harus 0 (baris) atau 1 (kolom).\")\n",
        "        else:\n",
        "            raise ValueError(\"Input harus berupa pd.DataFrame atau np.ndarray.\")\n",
        "\n",
        "        return X_cleaned"
      ]
    },
    {
      "cell_type": "markdown",
      "metadata": {
        "id": "eycPASmMLfHa"
      },
      "source": [
        "### IV. Feature Engineering\n",
        "\n",
        "**Feature engineering** involves creating new features (input variables) or transforming existing ones to improve the performance of machine learning models. Feature engineering aims to enhance the model's ability to learn patterns and make accurate predictions from the data. It's often said that \"good features make good models.\"\n",
        "\n",
        "1. **Feature Selection:** Feature engineering can involve selecting the most relevant and informative features from the dataset. Removing irrelevant or redundant features not only simplifies the model but also reduces the risk of overfitting.\n",
        "\n",
        "2. **Creating New Features:** Sometimes, the existing features may not capture the underlying patterns effectively. In such cases, engineers create new features that provide additional information. For example:\n",
        "   \n",
        "   - **Polynomial Features:** Engineers may create new features by taking the square, cube, or other higher-order terms of existing numerical features. This can help capture nonlinear relationships.\n",
        "   \n",
        "   - **Interaction Features:** Interaction features are created by combining two or more existing features. For example, if you have features \"length\" and \"width,\" you can create an \"area\" feature by multiplying them.\n",
        "\n",
        "3. **Binning or Discretization:** Continuous numerical features can be divided into bins or categories. For instance, age values can be grouped into bins like \"child,\" \"adult,\" and \"senior.\"\n",
        "\n",
        "4. **Domain-Specific Feature Engineering:** Depending on the domain and problem, engineers may create domain-specific features. For example, in fraud detection, features related to transaction history and user behavior may be engineered to identify anomalies.\n",
        "\n",
        "Feature engineering is both a creative and iterative process. It requires a deep understanding of the data, domain knowledge, and experimentation to determine which features will enhance the model's predictive power."
      ]
    },
    {
      "cell_type": "code",
      "execution_count": 106,
      "metadata": {
        "id": "aaVpOcyfAOl_"
      },
      "outputs": [],
      "source": [
        "# FeatureSelector class untuk seleksi fitur\n",
        "class FeatureSelector:\n",
        "    def __init__(self, numerical_corr_threshold=0.2, categorical_cramers_v_threshold=0.2):\n",
        "        self.numerical_corr_threshold = numerical_corr_threshold\n",
        "        self.categorical_cramers_v_threshold = categorical_cramers_v_threshold\n",
        "        self.selected_features = []\n",
        "\n",
        "    def fit(self, X, y):\n",
        "        # Seleksi fitur numerik berdasarkan korelasi dengan target\n",
        "        numerical_features = [col for col in numerical_columns if col in X.columns]\n",
        "        numerical_corr = X[numerical_features].corrwith(y).abs()\n",
        "        selected_numerical = numerical_corr[numerical_corr >= self.numerical_corr_threshold].index.tolist()\n",
        "\n",
        "        # Seleksi fitur kategorikal berdasarkan Cramer's V dengan target\n",
        "        categorical_features = [col for col in categorical_columns if col in X.columns]\n",
        "        selected_categorical = [\n",
        "            col for col in categorical_features\n",
        "            if self._calculate_cramers_v(X[col], y) >= self.categorical_cramers_v_threshold\n",
        "        ]\n",
        "\n",
        "        # Gabungkan fitur numerik dan kategorikal terpilih\n",
        "        self.selected_features = selected_numerical + selected_categorical\n",
        "\n",
        "        # Jika fitur yang terpilih lebih dari 7, pilih yang paling penting berdasarkan skor seleksi\n",
        "        if len(self.selected_features) > 7:\n",
        "            top_numerical = numerical_corr[numerical_corr.index.isin(selected_numerical)].nlargest(3).index.tolist()\n",
        "            top_categorical = selected_categorical[:4]\n",
        "            self.selected_features = top_numerical + top_categorical\n",
        "\n",
        "        return self\n",
        "\n",
        "    def _calculate_cramers_v(self, x, y):\n",
        "        contingency_table = pd.crosstab(x, y)\n",
        "        chi2, _, _, _ = chi2_contingency(contingency_table)\n",
        "        n = contingency_table.sum().sum()\n",
        "        r, k = contingency_table.shape\n",
        "        return np.sqrt(chi2 / (n * (min(r, k) - 1)))"
      ]
    },
    {
      "cell_type": "markdown",
      "metadata": {
        "id": "xw11_49xLfHb"
      },
      "source": [
        "## B. Data Preprocessing\n",
        "\n",
        "**Data preprocessing** is a broader step that encompasses both data cleaning and additional transformations to make the data suitable for machine learning algorithms. Its primary goals are:\n",
        "\n",
        "1. **Feature Scaling:** Ensure that numerical features have similar scales. Common techniques include Min-Max scaling (scaling to a specific range) or standardization (mean-centered, unit variance).\n",
        "\n",
        "2. **Encoding Categorical Variables:** Machine learning models typically work with numerical data, so categorical variables need to be encoded. This can be done using one-hot encoding, label encoding, or more advanced methods like target encoding.\n",
        "\n",
        "3. **Handling Imbalanced Classes:** If dealing with imbalanced classes in a binary classification task, apply techniques such as oversampling, undersampling, or using different evaluation metrics to address class imbalance.\n",
        "\n",
        "4. **Dimensionality Reduction:** Reduce the number of features using techniques like Principal Component Analysis (PCA) or feature selection to simplify the model and potentially improve its performance.\n",
        "\n",
        "5. **Normalization:** Normalize data to achieve a standard distribution. This is particularly important for algorithms that assume normally distributed data."
      ]
    },
    {
      "cell_type": "markdown",
      "metadata": {
        "id": "rVyVnA1hLfHd"
      },
      "source": [
        "### Notes on Preprocessing processes\n",
        "\n",
        "It is advised to create functions or classes that have the same/similar type of inputs and outputs, so you can add, remove, or swap the order of the processes easily. You can implement the functions or classes by yourself\n",
        "\n",
        "or\n",
        "\n",
        "use `sklearn` library. To create a new preprocessing component in `sklearn`, implement a corresponding class that includes:\n",
        "1. Inheritance to `BaseEstimator` and `TransformerMixin`\n",
        "2. The method `fit`\n",
        "3. The method `transform`"
      ]
    },
    {
      "cell_type": "markdown",
      "metadata": {
        "id": "WhCgOl4xLfHb"
      },
      "source": [
        "### I. Feature Scaling\n",
        "\n",
        "**Feature scaling** is a preprocessing technique used in machine learning to standardize the range of independent variables or features of data. The primary goal of feature scaling is to ensure that all features contribute equally to the training process and that machine learning algorithms can work effectively with the data.\n",
        "\n",
        "Here are the main reasons why feature scaling is important:\n",
        "\n",
        "1. **Algorithm Sensitivity:** Many machine learning algorithms are sensitive to the scale of input features. If the scales of features are significantly different, some algorithms may perform poorly or take much longer to converge.\n",
        "\n",
        "2. **Distance-Based Algorithms:** Algorithms that rely on distances or similarities between data points, such as k-nearest neighbors (KNN) and support vector machines (SVM), can be influenced by feature scales. Features with larger scales may dominate the distance calculations.\n",
        "\n",
        "3. **Regularization:** Regularization techniques, like L1 (Lasso) and L2 (Ridge) regularization, add penalty terms based on feature coefficients. Scaling ensures that all features are treated equally in the regularization process.\n",
        "\n",
        "Common methods for feature scaling include:\n",
        "\n",
        "1. **Min-Max Scaling (Normalization):** This method scales features to a specific range, typically [0, 1]. It's done using the following formula:\n",
        "\n",
        "   $$X' = \\frac{X - X_{min}}{X_{max} - X_{min}}$$\n",
        "\n",
        "   - Here, $X$ is the original feature value, $X_{min}$ is the minimum value of the feature, and $X_{max}$ is the maximum value of the feature.  \n",
        "<br />\n",
        "<br />\n",
        "2. **Standardization (Z-score Scaling):** This method scales features to have a mean (average) of 0 and a standard deviation of 1. It's done using the following formula:\n",
        "\n",
        "   $$X' = \\frac{X - \\mu}{\\sigma}$$\n",
        "\n",
        "   - $X$ is the original feature value, $\\mu$ is the mean of the feature, and $\\sigma$ is the standard deviation of the feature.  \n",
        "<br />\n",
        "<br />\n",
        "3. **Robust Scaling:** Robust scaling is a method that scales features to the interquartile range (IQR) and is less affected by outliers. It's calculated as:\n",
        "\n",
        "   $$X' = \\frac{X - Q1}{Q3 - Q1}$$\n",
        "\n",
        "   - $X$ is the original feature value, $Q1$ is the first quartile (25th percentile), and $Q3$ is the third quartile (75th percentile) of the feature.  \n",
        "<br />\n",
        "<br />\n",
        "4. **Log Transformation:** In cases where data is highly skewed or has a heavy-tailed distribution, taking the logarithm of the feature values can help stabilize the variance and improve scaling.\n",
        "\n",
        "The choice of scaling method depends on the characteristics of your data and the requirements of your machine learning algorithm. **Min-max scaling and standardization are the most commonly used techniques and work well for many datasets.**\n",
        "\n",
        "Scaling should be applied separately to each training and test set to prevent data leakage from the test set into the training set. Additionally, **some algorithms may not require feature scaling, particularly tree-based models.**"
      ]
    },
    {
      "cell_type": "code",
      "execution_count": 107,
      "metadata": {
        "id": "RmKOme66T4sN"
      },
      "outputs": [],
      "source": [
        "class FeatureScaler(BaseEstimator, TransformerMixin):\n",
        "    def __init__(self, scaling_method='standardization'):\n",
        "        self.scaling_method = scaling_method\n",
        "\n",
        "    def fit(self, X, y=None):\n",
        "        if self.scaling_method == 'minmax':\n",
        "            self.scaler_ = MinMaxScaler()\n",
        "        elif self.scaling_method == 'standardization':\n",
        "            self.scaler_ = StandardScaler()\n",
        "        elif self.scaling_method == 'robust':\n",
        "            self.scaler_ = RobustScaler()\n",
        "        else:\n",
        "            raise ValueError(f\"Scaling method {self.scaling_method} tidak dikenali.\")\n",
        "\n",
        "        self.scaler_.fit(X)\n",
        "        return self\n",
        "\n",
        "    def transform(self, X):\n",
        "        return self.scaler_.transform(X)\n",
        "\n",
        "    def get_feature_names_out(self, input_features=None):\n",
        "        return input_features\n"
      ]
    },
    {
      "cell_type": "markdown",
      "metadata": {
        "id": "f_Lh-4JwLfHc"
      },
      "source": [
        "### II. Feature Encoding\n",
        "\n",
        "**Feature encoding**, also known as **categorical encoding**, is the process of converting categorical data (non-numeric data) into a numerical format so that it can be used as input for machine learning algorithms. Most machine learning models require numerical data for training and prediction, so feature encoding is a critical step in data preprocessing.\n",
        "\n",
        "Categorical data can take various forms, including:\n",
        "\n",
        "1. **Nominal Data:** Categories with no intrinsic order, like colors or country names.  \n",
        "\n",
        "2. **Ordinal Data:** Categories with a meaningful order but not necessarily equidistant, like education levels (e.g., \"high school,\" \"bachelor's,\" \"master's\").\n",
        "\n",
        "There are several common methods for encoding categorical data:\n",
        "\n",
        "1. **Label Encoding:**\n",
        "\n",
        "   - Label encoding assigns a unique integer to each category in a feature.\n",
        "   - It's suitable for ordinal data where there's a clear order among categories.\n",
        "   - For example, if you have an \"education\" feature with values \"high school,\" \"bachelor's,\" and \"master's,\" you can encode them as 0, 1, and 2, respectively.\n",
        "<br />\n",
        "<br />\n",
        "2. **One-Hot Encoding:**\n",
        "\n",
        "   - One-hot encoding creates a binary (0 or 1) column for each category in a nominal feature.\n",
        "   - It's suitable for nominal data where there's no inherent order among categories.\n",
        "   - Each category becomes a new feature, and the presence (1) or absence (0) of a category is indicated for each row.\n",
        "<br />\n",
        "<br />\n",
        "3. **Target Encoding (Mean Encoding):**\n",
        "\n",
        "   - Target encoding replaces each category with the mean of the target variable for that category.\n",
        "   - It's often used for classification problems."
      ]
    },
    {
      "cell_type": "code",
      "execution_count": 108,
      "metadata": {
        "id": "s_7hCbeaT74Y"
      },
      "outputs": [],
      "source": [
        "class FeatureEncoder(BaseEstimator, TransformerMixin):\n",
        "    def __init__(self):\n",
        "        self.encoder = OneHotEncoder(handle_unknown='ignore', sparse_output=False)\n",
        "\n",
        "    def fit(self, X, y=None):\n",
        "        self.encoder.fit(X)\n",
        "        return self\n",
        "\n",
        "    def transform(self, X):\n",
        "        return self.encoder.transform(X)\n"
      ]
    },
    {
      "cell_type": "markdown",
      "metadata": {
        "id": "jKQO9wtB8Pc0"
      },
      "source": [
        "### III. Handling Imbalanced Dataset\n",
        "\n",
        "**Handling imbalanced datasets** is important because imbalanced data can lead to several issues that negatively impact the performance and reliability of machine learning models. Here are some key reasons:\n",
        "\n",
        "1. **Biased Model Performance**:\n",
        "\n",
        " - Models trained on imbalanced data tend to be biased towards the majority class, leading to poor performance on the minority class. This can result in misleading accuracy metrics.\n",
        "\n",
        "2. **Misleading Accuracy**:\n",
        "\n",
        " - High overall accuracy can be misleading in imbalanced datasets. For example, if 95% of the data belongs to one class, a model that always predicts the majority class will have 95% accuracy but will fail to identify the minority class.\n",
        "\n",
        "3. **Poor Generalization**:\n",
        "\n",
        " - Models trained on imbalanced data may not generalize well to new, unseen data, especially if the minority class is underrepresented.\n",
        "\n",
        "\n",
        "Some methods to handle imbalanced datasets:\n",
        "1. **Resampling Methods**:\n",
        "\n",
        " - Oversampling: Increase the number of instances in the minority class by duplicating or generating synthetic samples (e.g., SMOTE).\n",
        " - Undersampling: Reduce the number of instances in the majority class to balance the dataset.\n",
        "\n",
        "2. **Evaluation Metrics**:\n",
        "\n",
        " - Use appropriate evaluation metrics such as precision, recall, F1-score, ROC-AUC, and confusion matrix instead of accuracy to better assess model performance on imbalanced data.\n",
        "\n",
        "3. **Algorithmic Approaches**:\n",
        "\n",
        " - Use algorithms that are designed to handle imbalanced data, such as decision trees, random forests, or ensemble methods.\n",
        " - Adjust class weights in algorithms to give more importance to the minority class."
      ]
    },
    {
      "cell_type": "code",
      "execution_count": 109,
      "metadata": {
        "id": "p3IFd7vP6tNY"
      },
      "outputs": [],
      "source": [
        "class ImbalancedHandler(BaseEstimator, TransformerMixin):\n",
        "    def __init__(self, over_strategy='minority', under_strategy='majority', sampling_method='both', random_state=42):\n",
        "        self.over_strategy = over_strategy\n",
        "        self.under_strategy = under_strategy\n",
        "        self.sampling_method = sampling_method  # Pilihan: 'both', 'over', 'under'\n",
        "        self.random_state = random_state\n",
        "        self.over_sampler = RandomOverSampler(sampling_strategy=self.over_strategy, random_state=self.random_state)\n",
        "        self.under_sampler = RandomUnderSampler(sampling_strategy=self.under_strategy, random_state=self.random_state)\n",
        "\n",
        "    def fit(self, X, y=None):\n",
        "        # Tidak ada pembelajaran dalam handler ini, cukup kembalikan self\n",
        "        return self\n",
        "\n",
        "    def transform(self, X, y=None):\n",
        "        if y is None:\n",
        "            raise ValueError(\"y (labels) harus disertakan untuk handling imbalanced data.\")\n",
        "        \n",
        "        # Resampling berdasarkan metode yang dipilih\n",
        "        if self.sampling_method == 'over':\n",
        "            # Oversampling saja\n",
        "            X_resampled, y_resampled = self.over_sampler.fit_resample(X, y)\n",
        "        elif self.sampling_method == 'under':\n",
        "            # Undersampling saja\n",
        "            X_resampled, y_resampled = self.under_sampler.fit_resample(X, y)\n",
        "        elif self.sampling_method == 'both':\n",
        "            # Oversampling diikuti dengan undersampling\n",
        "            X_resampled, y_resampled = self.over_sampler.fit_resample(X, y)\n",
        "            X_resampled, y_resampled = self.under_sampler.fit_resample(X_resampled, y_resampled)\n",
        "        else:\n",
        "            raise ValueError(\"Sampling method tidak valid. Pilih dari 'over', 'under', atau 'both'.\")\n",
        "        \n",
        "        return X_resampled, y_resampled"
      ]
    },
    {
      "cell_type": "markdown",
      "metadata": {
        "id": "-ctVzt5DLfHd"
      },
      "source": [
        "# 3. Compile Preprocessing Pipeline\n",
        "\n",
        "All of the preprocessing classes or functions defined earlier will be compiled in this step."
      ]
    },
    {
      "cell_type": "markdown",
      "metadata": {
        "id": "S_ZlncSVjJG6"
      },
      "source": [
        "If you use sklearn to create preprocessing classes, you can list your preprocessing classes in the Pipeline object sequentially, and then fit and transform your data."
      ]
    },
    {
      "cell_type": "code",
      "execution_count": 110,
      "metadata": {},
      "outputs": [],
      "source": [
        "#KAMUS\n",
        "numerical_columns = ['URLLength', 'DomainLength', 'CharContinuationRate', 'TLDLegitimateProb', 'URLCharProb', 'TLDLength',\n",
        "                      'NoOfSubDomain', 'NoOfObfuscatedChar', 'ObfuscationRatio', 'NoOfLettersInURL', 'LetterRatioInURL',\n",
        "                      'NoOfDegitsInURL', 'DegitRatioInURL', 'NoOfEqualsInURL', 'NoOfQMarkInURL', 'NoOfAmpersandInURL',\n",
        "                      'NoOfOtherSpecialCharsInURL', 'SpacialCharRatioInURL', 'LineOfCode', 'LargestLineLength',\n",
        "                      'DomainTitleMatchScore', 'URLTitleMatchScore', 'NoOfPopup', 'NoOfiFrame', 'NoOfImage', 'NoOfCSS',\n",
        "                      'NoOfJS', 'NoOfSelfRef', 'NoOfEmptyRef', 'NoOfExternalRef']\n",
        "categorical_columns = [ 'TLD', 'Domain', 'IsResponsive', 'Robots', 'NoOfURLRedirect', 'HasHiddenFields', 'HasPasswordField',\n",
        "                       'Pay', 'URL', 'HasSubmitButton', 'Title', 'Crypto', 'HasObfuscation', 'Bank', 'NoOfSelfRedirect',\n",
        "                        'HasExternalFormSubmit', 'IsHTTPS', 'HasCopyrightInfo', 'HasTitle', 'FILENAME', 'HasSocialNet',\n",
        "                        'HasFavicon', 'HasDescription', 'IsDomainIP']\n",
        "# Identifikasi kolom biner\n",
        "binary_columns = [\n",
        "    \"IsDomainIP\", \"HasObfuscation\", \"IsHTTPS\", \"HasTitle\",\n",
        "    \"HasFavicon\", \"Robots\", \"IsResponsive\", \"HasDescription\", \"NoOfURLRedirect\", \"NoOfSelfRedirect\",\n",
        "    \"HasExternalFormSubmit\", \"HasSocialNet\", \"HasSubmitButton\",\n",
        "    \"HasHiddenFields\", \"HasPasswordField\", \"Bank\", \"Pay\",\n",
        "    \"Crypto\", \"HasCopyrightInfo\",\n",
        "]\n",
        "\n",
        "# Identifikasi kolom kategorikal non-biner\n",
        "non_binary_columns = [col for col in categorical_columns if col not in binary_columns]\n"
      ]
    },
    {
      "cell_type": "code",
      "execution_count": 132,
      "metadata": {
        "colab": {
          "base_uri": "https://localhost:8080/"
        },
        "id": "BmcSm5H-7JLR",
        "outputId": "b1e3653a-355a-4179-c687-3aed49ed4ddc"
      },
      "outputs": [
        {
          "name": "stdout",
          "output_type": "stream",
          "text": [
            "Fitur terpilih:  ['IsHTTPS', 'HasTitle', 'DegitRatioInURL', 'FILENAME', 'URL', 'Domain', 'TLD']\n"
          ]
        }
      ],
      "source": [
        "# Tentukan kolom numerik dan kategorikal\n",
        "numerical_columns = [col for col in X_train.columns if pd.api.types.is_numeric_dtype(X_train[col])]\n",
        "categorical_columns = [col for col in X_train.columns if X_train[col].dtype == 'object']\n",
        "\n",
        "# 1. Inisialisasi dan fit feature selector\n",
        "selector = FeatureSelector(numerical_corr_threshold=0.2, categorical_cramers_v_threshold=0.3)\n",
        "selector.fit(X, y)\n",
        "\n",
        "# 2. Menampilkan 7 fitur terbaik yang terpilih\n",
        "print(\"Fitur terpilih: \", selector.selected_features)"
      ]
    },
    {
      "cell_type": "code",
      "execution_count": 144,
      "metadata": {},
      "outputs": [],
      "source": [
        "#Fitur yang dipilih\n",
        "numerical_columns = ['URLLength', 'DomainLength', 'CharContinuationRate', 'TLDLegitimateProb', 'URLCharProb', 'TLDLength',\n",
        "                      'NoOfSubDomain', 'NoOfObfuscatedChar', 'ObfuscationRatio', 'NoOfLettersInURL', 'LetterRatioInURL',\n",
        "                      'NoOfDegitsInURL', 'DegitRatioInURL', 'NoOfEqualsInURL', 'NoOfQMarkInURL', 'NoOfAmpersandInURL',\n",
        "                      'NoOfOtherSpecialCharsInURL', 'SpacialCharRatioInURL', 'LineOfCode', 'LargestLineLength',\n",
        "                      'DomainTitleMatchScore', 'URLTitleMatchScore', 'NoOfPopup', 'NoOfiFrame', 'NoOfImage', 'NoOfCSS',\n",
        "                      'NoOfJS', 'NoOfSelfRef', 'NoOfEmptyRef', 'NoOfExternalRef']\n",
        "categorical_columns = ['IsHTTPS', 'HasTitle', 'HasSocialNet', 'HasCopyrightInfo']\n"
      ]
    },
    {
      "cell_type": "code",
      "execution_count": 145,
      "metadata": {
        "id": "JKZ8dPF1H7Ls"
      },
      "outputs": [],
      "source": [
        "\n",
        "# 1. Definisikan ColumnTransformer untuk menangani preprocessing numerik dan kategorikal\n",
        "preprocessor = ColumnTransformer(\n",
        "    transformers=[\n",
        "        ('num', Pipeline([\n",
        "            ('imputer', SimpleImputer(strategy='most_frequent')),  # Imputasi nilai yang hilang dengan rata-rata\n",
        "            ('scaler',StandardScaler())  # Normalisasi fitur numerik\n",
        "        ]), numerical_columns),\n",
        "\n",
        "        ('cat', Pipeline([\n",
        "            ('imputer', SimpleImputer(strategy='mean')),  \n",
        "            ('encoder', OneHotEncoder(handle_unknown='ignore', sparse_output=False))\n",
        "        ]), categorical_columns)\n",
        "    ])\n",
        "\n",
        "# 2. Buat pipeline untuk preprocessing\n",
        "pipeline = Pipeline([\n",
        "    ('preprocessor', preprocessor)\n",
        "])\n",
        "\n",
        "# 3. Fit pipeline pada data pelatihan (X_train)\n",
        "pipeline.fit(X_train)\n",
        "\n",
        "# 4. Transformasi data pelatihan\n",
        "X_train_transformed = pipeline.transform(X_train)\n",
        "\n",
        "# Pastikan data pelatihan berupa DataFrame dengan nama kolom yang sesuai\n",
        "X_train_transformed = pd.DataFrame(X_train_transformed, columns=pipeline.named_steps['preprocessor'].get_feature_names_out())\n",
        "\n",
        "\n",
        "# 6. Transformasi data validasi\n",
        "X_val_transformed = pipeline.transform(X_val)\n",
        "X_val_transformed = pd.DataFrame(X_val_transformed, columns=pipeline.named_steps['preprocessor'].get_feature_names_out())\n",
        "\n",
        "\n",
        "# Pastikan semua kolom dalam X_val_transformed adalah numerik\n",
        "X_val_transformed = X_val_transformed.apply(pd.to_numeric, errors='coerce')\n"
      ]
    },
    {
      "cell_type": "markdown",
      "metadata": {
        "id": "9A3adbZXLfHe"
      },
      "source": [
        "# 4. Modeling and Validation\n",
        "\n",
        "Modelling is the process of building your own machine learning models to solve specific problems, or in this assignment context, predicting the target feature `label`. Validation is the process of evaluating your trained model using the validation set or cross-validation method and providing some metrics that can help you decide what to do in the next iteration of development."
      ]
    },
    {
      "cell_type": "markdown",
      "metadata": {},
      "source": [
        "## Save and Load"
      ]
    },
    {
      "cell_type": "code",
      "execution_count": 146,
      "metadata": {},
      "outputs": [],
      "source": [
        "class SaveModelLoader:\n",
        "    def save(model, filename):\n",
        "        filepath = \"pkl/\" + filename\n",
        "        try:\n",
        "            with open(filepath, 'wb') as file:\n",
        "                pickle.dump(model, file)\n",
        "            print(f\"Model berhasil disimpan di {filepath}\")\n",
        "        except Exception as e:\n",
        "            print(f\"Error menyimpan model ke {filepath}: {e}\")\n",
        "    def load(filename: str) -> Any:\n",
        "        filepath = \"pkl/\" + filename\n",
        "        try:\n",
        "            with open(filepath, 'rb') as file:\n",
        "                model = pickle.load(file)\n",
        "            print(f\"Model berhasil di load dari {filepath}\")\n",
        "            return model\n",
        "        except FileNotFoundError:\n",
        "            print(f\"Error: File {filepath} not found.\")\n",
        "        except Exception as e:\n",
        "            print(f\"Error loading model dari {filepath}: {e}\")\n"
      ]
    },
    {
      "cell_type": "markdown",
      "metadata": {
        "id": "ZnhMNbBILfHf"
      },
      "source": [
        "## A. KNN"
      ]
    },
    {
      "cell_type": "code",
      "execution_count": 116,
      "metadata": {
        "id": "KV6ICmFmlqjk"
      },
      "outputs": [],
      "source": [
        "# IMPLEMENTASI KNN FROM SCRATCH\n",
        "\n",
        "# Sumber : https://www.kaggle.com/code/spoorthi91/knn-using-euclidean-distance-from-scratch\n",
        "# Sumber : https://machinelearningmastery.com/tutorial-to-implement-k-nearest-neighbors-in-python-from-scratch/\n",
        "# Sumber : https://medium.com/@amirm.lavasani/classic-machine-learning-in-python-k-nearest-neighbors-knn-a06fbfaaf80a\n",
        "\n",
        "\n",
        "# Mendefinisikan perhitungan jarak\n",
        "import numpy as np\n",
        "from collections import Counter\n",
        "\n",
        "# Mendefinisikan perhitungan jarak\n",
        "class KNNSearch:\n",
        "\n",
        "    def __init__(self, k=3, metric=\"euclidean\", p=3):\n",
        "        self.k = k\n",
        "        self.metric = metric\n",
        "        self.p = p  # Default p for Minkowski distance\n",
        "\n",
        "    def Euclidean_dist(self, x1, x2):\n",
        "        return np.sqrt(np.sum((x1 - x2) ** 2))\n",
        "\n",
        "    def manhattan_dist(self, x1, x2):\n",
        "        return np.sum(np.abs(x1 - x2))\n",
        "\n",
        "    def minkowski_dist(self, x1, x2):\n",
        "        return np.power(np.sum(np.abs(x1 - x2) ** self.p), 1 / self.p)\n",
        "\n",
        "    def fit(self, X_train, y_train):\n",
        "        self.X_train = X_train\n",
        "        self.y_train = y_train\n",
        "\n",
        "    def hitung_jarak(self, x1, x2):\n",
        "        if self.metric == 'euclidean':\n",
        "            return self.Euclidean_dist(x1, x2)\n",
        "        elif self.metric == 'manhattan':\n",
        "            return self.manhattan_dist(x1, x2)\n",
        "        elif self.metric == 'minkowski':\n",
        "            return self.minkowski_dist(x1, x2)\n",
        "        else:\n",
        "            raise ValueError(f\"Metrik tak valid: {self.metric}\")\n",
        "\n",
        "    def _get_neighbors(self, x_test):\n",
        "        distances = []\n",
        "        for i, x_train in enumerate(self.X_train):\n",
        "            distance = self.hitung_jarak(x_train, x_test)\n",
        "            distances.append((distance, self.y_train[i]))\n",
        "\n",
        "        # Urutkan berdasarkan jarak dan ambil k tetangga terdekat\n",
        "        distances.sort(key=lambda x: x[0])\n",
        "        neighbors = [label for _, label in distances[:self.k]]\n",
        "        return neighbors\n",
        "\n",
        "    def predict(self, X_test):\n",
        "        predictions = []\n",
        "        for x_test in X_test:\n",
        "            neighbors = self._get_neighbors(x_test)\n",
        "            most_common = Counter(neighbors).most_common(1)\n",
        "            predictions.append(most_common[0][0])\n",
        "        return np.array(predictions)\n",
        "\n",
        "    def score(self, X_test, y_test):\n",
        "        y_pred = self.predict(X_test)\n",
        "        return np.mean(y_pred == y_test)"
      ]
    },
    {
      "cell_type": "code",
      "execution_count": 118,
      "metadata": {
        "id": "9KWGRuopPiZM"
      },
      "outputs": [],
      "source": [
        "class KNNWithScikitLearn:\n",
        "    def __init__(self, n_neighbors, metric='euclidean', p=3):\n",
        "        self.n_neighbors = n_neighbors\n",
        "        self.metric = metric\n",
        "        self.p = p\n",
        "        self.model = None\n",
        "\n",
        "    def fit(self, X_train, y_train):\n",
        "        self.model = KNeighborsClassifier(n_neighbors=self.n_neighbors, metric=self.metric, p=self.p)\n",
        "        self.model.fit(X_train, y_train)\n",
        "\n",
        "    def predict(self, X_test):\n",
        "        return self.model.predict(X_test)\n",
        "\n",
        "    def score(self, X_test, y_test):\n",
        "        y_pred = self.predict(X_test)\n",
        "        return accuracy_score(y_test, y_pred)\n",
        "\n",
        "def test_knn(X_train, X_val, y_train, y_val, n_neighbors=5):\n",
        "    metrics = ['euclidean', 'manhattan', 'minkowski']\n",
        "    accuracies = {}\n",
        "\n",
        "    for metric in metrics:\n",
        "        knn = KNNWithScikitLearn(n_neighbors=n_neighbors, metric=metric)\n",
        "        knn.fit(X_train, y_train)\n",
        "        accuracy = knn.score(X_val, y_val)\n",
        "        accuracies[metric] = accuracy\n",
        "        print(f'Akurasi dengan {metric} distance: {accuracy}')\n",
        "\n",
        "    return accuracies"
      ]
    },
    {
      "cell_type": "code",
      "execution_count": 119,
      "metadata": {},
      "outputs": [
        {
          "name": "stdout",
          "output_type": "stream",
          "text": [
            "Model berhasil disimpan di pkl/knn_euclidean.pkl\n",
            "Model berhasil disimpan di pkl/knn_manhattan.pkl\n",
            "Model berhasil disimpan di pkl/knn_minkowski.pkl\n"
          ]
        }
      ],
      "source": [
        "#save knn model\n",
        "#save euclidean\n",
        "knn_search = KNNSearch(k=5, metric='euclidean')\n",
        "knn_search.fit(X_train_transformed.values, y_train.values)\n",
        "SaveModelLoader.save(knn_search, 'knn_euclidean.pkl')\n",
        "#save manhattan\n",
        "knn_search = KNNSearch(k=5, metric='manhattan')\n",
        "knn_search.fit(X_train_transformed.values, y_train.values)\n",
        "SaveModelLoader.save(knn_search, 'knn_manhattan.pkl')\n",
        "#save minkowski\n",
        "knn_search = KNNSearch(k=5, metric='minkowski')\n",
        "knn_search.fit(X_train_transformed.values, y_train.values)\n",
        "SaveModelLoader.save(knn_search, 'knn_minkowski.pkl')\n"
      ]
    },
    {
      "cell_type": "code",
      "execution_count": null,
      "metadata": {},
      "outputs": [
        {
          "name": "stdout",
          "output_type": "stream",
          "text": [
            "Akurasi KNN dari scratch: 0.9857752489331437\n",
            "              precision    recall  f1-score   support\n",
            "\n",
            "           0       0.98      0.83      0.90        53\n",
            "           1       0.99      1.00      0.99       650\n",
            "\n",
            "    accuracy                           0.99       703\n",
            "   macro avg       0.98      0.91      0.95       703\n",
            "weighted avg       0.99      0.99      0.99       703\n",
            "\n",
            "F1 Score Macro: 0.9451569618673157\n"
          ]
        }
      ],
      "source": [
        "# Test KNNSearch euclidean\n",
        "knn_search = KNNSearch(k=5, metric='euclidean')\n",
        "knn_search.fit(X_train_transformed.values, y_train.values)\n",
        "accuracy = knn_search.score(X_val_transformed.values, y_val.values)\n",
        "print(f'Akurasi KNN dari scratch: {accuracy}')\n",
        "#print classification report\n",
        "y_pred_euclidean = knn_search.predict(X_val_transformed.values)\n",
        "print(classification_report(y_val, y_pred_euclidean))\n",
        "# report f1 macro\n",
        "print(f'F1 Score Macro: {f1_score(y_val, y_pred_euclidean, average=\"macro\")}')\n",
        "\n"
      ]
    },
    {
      "cell_type": "code",
      "execution_count": 136,
      "metadata": {},
      "outputs": [
        {
          "name": "stdout",
          "output_type": "stream",
          "text": [
            "Akurasi KNN dari scratch: 0.9800853485064012\n",
            "              precision    recall  f1-score   support\n",
            "\n",
            "           0       0.98      0.75      0.85        53\n",
            "           1       0.98      1.00      0.99       650\n",
            "\n",
            "    accuracy                           0.98       703\n",
            "   macro avg       0.98      0.88      0.92       703\n",
            "weighted avg       0.98      0.98      0.98       703\n",
            "\n",
            "F1 Score Macro: 0.9201965490399585\n"
          ]
        }
      ],
      "source": [
        "#Test KNNSearh minkowski\n",
        "knn_search = KNNSearch(k=5, metric='minkowski')\n",
        "knn_search.fit(X_train_transformed.values, y_train.values)\n",
        "accuracy = knn_search.score(X_val_transformed.values, y_val.values)\n",
        "print(f'Akurasi KNN dari scratch: {accuracy}')\n",
        "#print classification report\n",
        "y_pred_minkowski = knn_search.predict(X_val_transformed.values)\n",
        "print(classification_report(y_val, y_pred_minkowski))\n",
        "# report f1 macro\n",
        "print(f'F1 Score Macro: {f1_score(y_val, y_pred_minkowski, average=\"macro\")}')"
      ]
    },
    {
      "cell_type": "code",
      "execution_count": 138,
      "metadata": {},
      "outputs": [
        {
          "name": "stdout",
          "output_type": "stream",
          "text": [
            "Akurasi KNN dari scratch: 0.9914651493598862\n",
            "              precision    recall  f1-score   support\n",
            "\n",
            "           0       1.00      0.89      0.94        53\n",
            "           1       0.99      1.00      1.00       650\n",
            "\n",
            "    accuracy                           0.99       703\n",
            "   macro avg       1.00      0.94      0.97       703\n",
            "weighted avg       0.99      0.99      0.99       703\n",
            "\n",
            "F1 Score Macro: 0.9677029096477794\n"
          ]
        }
      ],
      "source": [
        "# Test KNNSearch manhattan\n",
        "knn_search = KNNSearch(k=5, metric='manhattan')\n",
        "knn_search.fit(X_train_transformed.values, y_train.values)\n",
        "accuracy = knn_search.score(X_val_transformed.values, y_val.values)\n",
        "print(f'Akurasi KNN dari scratch: {accuracy}')\n",
        "#print classification report\n",
        "y_pred_manhattan = knn_search.predict(X_val_transformed.values)\n",
        "print(classification_report(y_val, y_pred_manhattan))\n",
        "# report f1 macro\n",
        "print(f'F1 Score Macro: {f1_score(y_val, y_pred_manhattan, average=\"macro\")}')"
      ]
    },
    {
      "cell_type": "code",
      "execution_count": 139,
      "metadata": {
        "colab": {
          "base_uri": "https://localhost:8080/"
        },
        "id": "gabjYuXGQBgZ",
        "outputId": "262521f4-04ac-486f-fa01-cfc09dc907d2"
      },
      "outputs": [
        {
          "name": "stdout",
          "output_type": "stream",
          "text": [
            "Akurasi dengan euclidean distance: 0.9857752489331437\n",
            "Akurasi dengan manhattan distance: 0.9914651493598862\n",
            "Akurasi dengan minkowski distance: 0.9800853485064012\n",
            "Classification Report Euclidean: \n",
            "              precision    recall  f1-score   support\n",
            "\n",
            "           0       0.98      0.83      0.90        53\n",
            "           1       0.99      1.00      0.99       650\n",
            "\n",
            "    accuracy                           0.99       703\n",
            "   macro avg       0.98      0.91      0.95       703\n",
            "weighted avg       0.99      0.99      0.99       703\n",
            "\n",
            "Classification Report Manhattan: \n",
            "              precision    recall  f1-score   support\n",
            "\n",
            "           0       1.00      0.89      0.94        53\n",
            "           1       0.99      1.00      1.00       650\n",
            "\n",
            "    accuracy                           0.99       703\n",
            "   macro avg       1.00      0.94      0.97       703\n",
            "weighted avg       0.99      0.99      0.99       703\n",
            "\n",
            "Classification Report Minkowski: \n",
            "              precision    recall  f1-score   support\n",
            "\n",
            "           0       0.98      0.75      0.85        53\n",
            "           1       0.98      1.00      0.99       650\n",
            "\n",
            "    accuracy                           0.98       703\n",
            "   macro avg       0.98      0.88      0.92       703\n",
            "weighted avg       0.98      0.98      0.98       703\n",
            "\n",
            "F1 Score Euclidean:  0.9451569618673157\n",
            "F1 Score Manhattan:  0.9677029096477794\n",
            "F1 Score Minkowski:  0.9201965490399585\n"
          ]
        }
      ],
      "source": [
        "X_train_transformed_np = X_train_transformed.to_numpy() if hasattr(X_train_transformed, 'to_numpy') else X_train_transformed\n",
        "X_val_transformed_np = X_val_transformed.to_numpy() if hasattr(X_val_transformed, 'to_numpy') else X_val_transformed\n",
        "\n",
        "acuracies = test_knn(X_train_transformed_np, X_val_transformed_np, y_train, y_val, n_neighbors=5)\n",
        "# KNN dengan metrik euclidean distance\n",
        "knn = KNNWithScikitLearn(n_neighbors=5, metric='euclidean')\n",
        "knn.fit(X_train_transformed, y_train)\n",
        "y_val_pred_euclidean = knn.predict(X_val_transformed)\n",
        "#KNN dengan metrik manhattan distance\n",
        "knn_manhattan = KNNWithScikitLearn(n_neighbors=5, metric='manhattan')\n",
        "knn_manhattan.fit(X_train_transformed, y_train)\n",
        "y_val_pred_manhattan = knn_manhattan.predict(X_val_transformed)\n",
        "#KNN dengan metrik minkowski distance\n",
        "knn_minkowski = KNNWithScikitLearn(n_neighbors=5, metric='minkowski')\n",
        "knn_minkowski.fit(X_train_transformed, y_train)\n",
        "y_val_pred_minkowski = knn_minkowski.predict(X_val_transformed)\n",
        "#print classification report\n",
        "print(\"Classification Report Euclidean: \")\n",
        "print(classification_report(y_val, y_val_pred_euclidean))\n",
        "print(\"Classification Report Manhattan: \")\n",
        "print(classification_report(y_val, y_val_pred_manhattan))\n",
        "print(\"Classification Report Minkowski: \")\n",
        "print(classification_report(y_val, y_val_pred_minkowski))\n",
        "# report f1 macro\n",
        "print(\"F1 Score Euclidean: \", f1_score(y_val, y_val_pred_euclidean, average='macro'))\n",
        "print(\"F1 Score Manhattan: \", f1_score(y_val, y_val_pred_manhattan, average='macro'))\n",
        "print(\"F1 Score Minkowski: \", f1_score(y_val, y_val_pred_minkowski, average='macro'))"
      ]
    },
    {
      "cell_type": "markdown",
      "metadata": {
        "id": "nW0bMzkDLfHf"
      },
      "source": [
        "## B. Naive Bayes"
      ]
    },
    {
      "cell_type": "code",
      "execution_count": 147,
      "metadata": {
        "colab": {
          "base_uri": "https://localhost:8080/"
        },
        "id": "xQ5c9ElNZmzH",
        "outputId": "69b6dabe-ef5b-45f0-d4a4-c8a9d6c60e5e"
      },
      "outputs": [
        {
          "name": "stderr",
          "output_type": "stream",
          "text": [
            "/var/folders/zl/9cr4j3vn7l5czhs5yjq3_2nr0000gn/T/ipykernel_80490/2539192493.py:36: RuntimeWarning: divide by zero encountered in log\n",
            "  likelihoods = np.sum(np.log(self._calculate_likelihood(idx, x)))\n"
          ]
        },
        {
          "name": "stdout",
          "output_type": "stream",
          "text": [
            "Akurasi Gaussian Naive Bayes: 0.98\n",
            "              precision    recall  f1-score   support\n",
            "\n",
            "           0       0.97      0.72      0.83      2111\n",
            "           1       0.98      1.00      0.99     25970\n",
            "\n",
            "    accuracy                           0.98     28081\n",
            "   macro avg       0.98      0.86      0.91     28081\n",
            "weighted avg       0.98      0.98      0.98     28081\n",
            "\n",
            "F1 Score Macro: 0.9084761283181547\n",
            "Model berhasil disimpan di pkl/gnb.pkl\n"
          ]
        }
      ],
      "source": [
        "class GaussianNaiveBayes:\n",
        "    def __init__(self):\n",
        "        self.classes = None\n",
        "        self.mean = None\n",
        "        self.var = None\n",
        "        self.priors = None\n",
        "        self.i = 1  # Untuk mencatat urutan prediksi seperti pada KNN\n",
        "\n",
        "    def fit(self, X, y):\n",
        "        # Identifikasi kelas unik\n",
        "        self.classes = np.unique(y)\n",
        "        # Inisialisasi mean, variansi, dan prior\n",
        "        self.mean = np.zeros((len(self.classes), X.shape[1]), dtype=np.float64)\n",
        "        self.var = np.zeros((len(self.classes), X.shape[1]), dtype=np.float64)\n",
        "        self.priors = np.zeros(len(self.classes), dtype=np.float64)\n",
        "\n",
        "        for idx, c in enumerate(self.classes):\n",
        "            X_c = X[y == c]\n",
        "            self.mean[idx, :] = X_c.mean(axis=0)\n",
        "            # Variansi diberi smoothing untuk mencegah pembagian nol\n",
        "            self.var[idx, :] = np.maximum(X_c.var(axis=0), 1e-9)\n",
        "            self.priors[idx] = X_c.shape[0] / float(X.shape[0])\n",
        "\n",
        "    def _calculate_likelihood(self, class_idx, x):\n",
        "        mean = self.mean[class_idx]\n",
        "        var = self.var[class_idx]\n",
        "        # Rumus Gaussian\n",
        "        numerator = np.exp(-0.5 * ((x - mean) ** 2) / var)\n",
        "        denominator = np.sqrt(2 * np.pi * var)\n",
        "        return numerator / denominator\n",
        "\n",
        "    def _calculate_posterior(self, x):\n",
        "        posteriors = []\n",
        "        for idx, c in enumerate(self.classes):\n",
        "            prior = np.log(self.priors[idx])\n",
        "            likelihoods = np.sum(np.log(self._calculate_likelihood(idx, x)))\n",
        "            posterior = prior + likelihoods\n",
        "            posteriors.append(posterior)\n",
        "        return self.classes[np.argmax(posteriors)]\n",
        "\n",
        "    def _predict(self, x):\n",
        "        return self._calculate_posterior(x)\n",
        "\n",
        "    def predict(self, X):\n",
        "        y_pred = [self._predict(x) for x in X]\n",
        "        return np.array(y_pred)\n",
        "    def score(self, X, y):\n",
        "        y_pred = self.predict(X)\n",
        "        return np.mean(y_pred == y)\n",
        "\n",
        "\n",
        "# Reset indeks y_train dan konversi ke Numpy array\n",
        "y_train = y_train.reset_index(drop=True).to_numpy()\n",
        "X_train_transformed = pd.DataFrame(X_train_transformed).apply(pd.to_numeric, errors='coerce').to_numpy()\n",
        "X_val_transformed = pd.DataFrame(X_val_transformed).apply(pd.to_numeric, errors='coerce').to_numpy()\n",
        "\n",
        "# Melatih model\n",
        "gnb = GaussianNaiveBayes()\n",
        "gnb.fit(X_train_transformed, y_train)\n",
        "\n",
        "# Melakukan prediksi\n",
        "predictions = gnb.predict(X_val_transformed)\n",
        "\n",
        "# Menghitung akurasi\n",
        "accuracy = np.mean(predictions == y_val)\n",
        "print(f'Akurasi Gaussian Naive Bayes: {accuracy:.2f}')\n",
        "\n",
        "# Menampilkan classification report\n",
        "print(classification_report(y_val, predictions))\n",
        "# report f1 macro\n",
        "print(f'F1 Score Macro: {f1_score(y_val, predictions, average=\"macro\")}')\n",
        "#save model\n",
        "SaveModelLoader.save(gnb, 'gnb.pkl')\n"
      ]
    },
    {
      "cell_type": "code",
      "execution_count": 148,
      "metadata": {
        "colab": {
          "base_uri": "https://localhost:8080/"
        },
        "id": "Upo5w6FoWSI_",
        "outputId": "b415f1f0-653d-468e-ae1d-6a4bf6fbd3f6"
      },
      "outputs": [
        {
          "name": "stdout",
          "output_type": "stream",
          "text": [
            "Akurasi: 0.9783127381503508\n",
            "              precision    recall  f1-score   support\n",
            "\n",
            "           0       0.99      0.72      0.83      2111\n",
            "           1       0.98      1.00      0.99     25970\n",
            "\n",
            "    accuracy                           0.98     28081\n",
            "   macro avg       0.98      0.86      0.91     28081\n",
            "weighted avg       0.98      0.98      0.98     28081\n",
            "\n",
            "F1 Score Macro: 0.9109355810404087\n"
          ]
        }
      ],
      "source": [
        "from sklearn.naive_bayes import GaussianNB\n",
        "from sklearn.model_selection import train_test_split\n",
        "from sklearn.metrics import accuracy_score\n",
        "\n",
        "model = GaussianNB()\n",
        "\n",
        "model.fit(X_train_transformed, y_train)\n",
        "\n",
        "y_pred = model.predict(X_val_transformed)\n",
        "\n",
        "accuracy = accuracy_score(y_val, y_pred)\n",
        "print(f'Akurasi: {accuracy}')\n",
        "# print classification report\n",
        "print(classification_report(y_val, y_pred))\n",
        "# report f1 macro\n",
        "print(f'F1 Score Macro: {f1_score(y_val, y_pred, average=\"macro\")}')"
      ]
    },
    {
      "cell_type": "markdown",
      "metadata": {
        "id": "LoH2u6fOLfHh"
      },
      "source": [
        "## C. Improvements (Optional)\n",
        "\n",
        "- **Visualize the model evaluation result**\n",
        "\n",
        "This will help you to understand the details more clearly about your model's performance. From the visualization, you can see clearly if your model is leaning towards a class than the others. (Hint: confusion matrix, ROC-AUC curve, etc.)\n",
        "\n",
        "- **Explore the hyperparameters of your models**\n",
        "\n",
        "Each models have their own hyperparameters. And each of the hyperparameter have different effects on the model behaviour. You can optimize the model performance by finding the good set of hyperparameters through a process called **hyperparameter tuning**. (Hint: Grid search, random search, bayesian optimization)\n",
        "\n",
        "- **Cross-validation**\n",
        "\n",
        "Cross-validation is a critical technique in machine learning and data science for evaluating and validating the performance of predictive models. It provides a more **robust** and **reliable** evaluation method compared to a hold-out (single train-test set) validation. Though, it requires more time and computing power because of how cross-validation works. (Hint: k-fold cross-validation, stratified k-fold cross-validation, etc.)"
      ]
    },
    {
      "cell_type": "code",
      "execution_count": 117,
      "metadata": {
        "id": "pg-A54yELfHh"
      },
      "outputs": [
        {
          "data": {
            "image/png": "[encoded data removed]",
            "text/plain": [
              "<Figure size 800x600 with 2 Axes>"
            ]
          },
          "metadata": {},
          "output_type": "display_data"
        },
        {
          "data": {
            "image/png": "[encoded data removed]",
            "text/plain": [
              "<Figure size 800x600 with 2 Axes>"
            ]
          },
          "metadata": {},
          "output_type": "display_data"
        },
        {
          "data": {
            "image/png": "[encoded data removed]",
            "text/plain": [
              "<Figure size 800x600 with 2 Axes>"
            ]
          },
          "metadata": {},
          "output_type": "display_data"
        }
      ],
      "source": [
        "# Membuat confusion matrix\n",
        "cm_euclidean = confusion_matrix(y_val, y_val_pred_euclidean)\n",
        "cm_manhattan = confusion_matrix(y_val, y_val_pred_manhattan)\n",
        "cm_minkowski = confusion_matrix(y_val, y_val_pred_minkowski)\n",
        "\n",
        "# Menampilkan confusion matrix untuk Euclidean menggunakan heatmap\n",
        "plt.figure(figsize=(8, 6))\n",
        "sns.heatmap(cm_euclidean, annot=True, fmt='d', cmap='Blues', xticklabels=['Kelas 0', 'Kelas 1'], yticklabels=['Kelas 0', 'Kelas 1'])\n",
        "plt.xlabel('Prediksi')\n",
        "plt.ylabel('Aktual')\n",
        "plt.title('Confusion Matrix - KNN (Euclidean)')\n",
        "plt.show()\n",
        "\n",
        "# Menampilkan confusion matrix untuk Manhattan menggunakan heatmap\n",
        "plt.figure(figsize=(8, 6))\n",
        "sns.heatmap(cm_manhattan, annot=True, fmt='d', cmap='Blues', xticklabels=['Kelas 0', 'Kelas 1'], yticklabels=['Kelas 0', 'Kelas 1'])\n",
        "plt.xlabel('Prediksi')\n",
        "plt.ylabel('Aktual')\n",
        "plt.title('Confusion Matrix - KNN (Manhattan)')\n",
        "plt.show()\n",
        "\n",
        "# Menampilkan confusion matrix untuk Minkowski menggunakan heatmap\n",
        "plt.figure(figsize=(8, 6))\n",
        "sns.heatmap(cm_minkowski, annot=True, fmt='d', cmap='Blues', xticklabels=['Kelas 0', 'Kelas 1'], yticklabels=['Kelas 0', 'Kelas 1'])\n",
        "plt.xlabel('Prediksi')\n",
        "plt.ylabel('Aktual')\n",
        "plt.title('Confusion Matrix - KNN (Minkowski)')\n",
        "plt.show()\n"
      ]
    },
    {
      "cell_type": "code",
      "execution_count": 120,
      "metadata": {},
      "outputs": [
        {
          "data": {
            "image/png": "[encoded data removed]",
            "text/plain": [
              "<Figure size 800x600 with 2 Axes>"
            ]
          },
          "metadata": {},
          "output_type": "display_data"
        }
      ],
      "source": [
        "# Membuat confusion matrix\n",
        "cm = confusion_matrix(y_val, y_pred)\n",
        "\n",
        "# Menampilkan confusion matrix menggunakan heatmap\n",
        "plt.figure(figsize=(8, 6))\n",
        "sns.heatmap(cm, annot=True, fmt='d', cmap='Blues', xticklabels=['Kelas 0', 'Kelas 1'], yticklabels=['Kelas 0', 'Kelas 1'])\n",
        "plt.xlabel('Prediksi')\n",
        "plt.ylabel('Aktual')\n",
        "plt.title('Confusion Matrix - Naive Bayes')\n",
        "plt.show()"
      ]
    },
    {
      "cell_type": "markdown",
      "metadata": {},
      "source": [
        "\n",
        "### Analisis Confusion Matrix\n",
        "\n",
        "1. **Definisi:**\n",
        "   - **True Positive (TP):** Model memprediksi positif, dan data sebenarnya positif.\n",
        "   - **True Negative (TN):** Model memprediksi negatif, dan data sebenarnya negatif.\n",
        "   - **False Positive (FP):** Model memprediksi positif, padahal data sebenarnya negatif (Type I Error).\n",
        "   - **False Negative (FN):** Model memprediksi negatif, padahal data sebenarnya positif (Type II Error).\n",
        "\n",
        "2. **Hasil Analisis Berdasarkan Confusion Matrix:**\n",
        "   - **KNN Euclidean:** TN = 148, TP = 2595, FP = 63, FN = 3.\n",
        "   - **KNN Manhattan:** TN = 162, TP = 2596, FP = 49, FN = 2.\n",
        "   - **KNN Minkowski:** TN = 139, TP = 2596, FP = 72, FN = 2.\n",
        "   - **KNN GNB:** TN = 152, TP = 2592, FP = 59, FN = 6.\n",
        "\n",
        "3. **Kesimpulan:**\n",
        "   - **KNN Manhattan adalah model terbaik secara keseluruhan:**\n",
        "     - Memiliki TN dan TP tertinggi (162 dan 2596).\n",
        "     - Memiliki FP dan FN terendah (49 dan 2).\n",
        "   - **False Positive (FP) masih tergolong tinggi** pada KNN Minkowski (72) dan Euclidean (63).\n",
        "     - Model cenderung sering salah memprediksi data negatif (Kelas 0) menjadi positif (Kelas 1).\n",
        "\n",
        "4. **Rekomendasi Improvement:**\n",
        "   Untuk meningkatkan akurasi prediksi dan mengurangi False Positives, berikut adalah langkah-langkah yang dapat dilakukan:\n",
        "   - **Imbalance Handling:** Terapkan metode seperti oversampling (SMOTE) atau undersampling untuk menangani distribusi data yang tidak seimbang.\n",
        "   - **Penambahan Data Latih:** Tambahkan data latih, terutama untuk kelas yang sulit dikenali.\n",
        "   - **Model Ensembling:** Gabungkan beberapa model (misalnya, KNN dengan Decision Tree atau Random Forest) untuk meningkatkan performa prediksi.\n"
      ]
    },
    {
      "cell_type": "markdown",
      "metadata": {
        "id": "Li4l53DjLfHh"
      },
      "source": [
        "## D. Submission\n",
        "To predict the test set target feature and submit the results to the kaggle competition platform, do the following:\n",
        "1. Create a new pipeline instance identical to the first in Data Preprocessing\n",
        "2. With the pipeline, apply `fit_transform` to the original training set before splitting, then only apply `transform` to the test set.\n",
        "3. Retrain the model on the preprocessed training set\n",
        "4. Predict the test set\n",
        "5. Make sure the submission contains the `id` and `label` column.\n",
        "\n",
        "Note: Adjust step 1 and 2 to your implementation of the preprocessing step if you don't use pipeline API from `sklearn`."
      ]
    },
    {
      "cell_type": "code",
      "execution_count": 151,
      "metadata": {},
      "outputs": [
        {
          "name": "stdout",
          "output_type": "stream",
          "text": [
            "Model berhasil di load dari pkl/gnb.pkl\n"
          ]
        },
        {
          "name": "stderr",
          "output_type": "stream",
          "text": [
            "/var/folders/zl/9cr4j3vn7l5czhs5yjq3_2nr0000gn/T/ipykernel_80490/2539192493.py:36: RuntimeWarning: divide by zero encountered in log\n",
            "  likelihoods = np.sum(np.log(self._calculate_likelihood(idx, x)))\n"
          ]
        },
        {
          "name": "stdout",
          "output_type": "stream",
          "text": [
            "Akurasi Gaussian Naive Bayes pada data validasi: 0.98\n",
            "Akurasi dengan Manhattan distance: 0.9776005128022507\n",
            "              precision    recall  f1-score   support\n",
            "\n",
            "           0       0.97      0.72      0.83      2111\n",
            "           1       0.98      1.00      0.99     25970\n",
            "\n",
            "    accuracy                           0.98     28081\n",
            "   macro avg       0.98      0.86      0.91     28081\n",
            "weighted avg       0.98      0.98      0.98     28081\n",
            "\n",
            "F1 Score (Macro Average) on Validation Set: 0.9084761283181547\n",
            "Submission result saved to: submission_result.csv\n"
          ]
        },
        {
          "name": "stderr",
          "output_type": "stream",
          "text": [
            "/var/folders/zl/9cr4j3vn7l5czhs5yjq3_2nr0000gn/T/ipykernel_80490/2539192493.py:36: RuntimeWarning: divide by zero encountered in log\n",
            "  likelihoods = np.sum(np.log(self._calculate_likelihood(idx, x)))\n"
          ]
        }
      ],
      "source": [
        "# Load data test\n",
        "df_test = pd.read_csv('./test.csv')\n",
        "X_test = df_test.copy()\n",
        "\n",
        "#Fitur yang dipilih\n",
        "numerical_columns = ['URLLength', 'DomainLength', 'CharContinuationRate', 'TLDLegitimateProb', 'URLCharProb', 'TLDLength',\n",
        "                      'NoOfSubDomain', 'NoOfObfuscatedChar', 'ObfuscationRatio', 'NoOfLettersInURL', 'LetterRatioInURL',\n",
        "                      'NoOfDegitsInURL', 'DegitRatioInURL', 'NoOfEqualsInURL', 'NoOfQMarkInURL', 'NoOfAmpersandInURL',\n",
        "                      'NoOfOtherSpecialCharsInURL', 'SpacialCharRatioInURL', 'LineOfCode', 'LargestLineLength',\n",
        "                      'DomainTitleMatchScore', 'URLTitleMatchScore', 'NoOfPopup', 'NoOfiFrame', 'NoOfImage', 'NoOfCSS',\n",
        "                      'NoOfJS', 'NoOfSelfRef', 'NoOfEmptyRef', 'NoOfExternalRef']\n",
        "categorical_columns = ['IsHTTPS', 'HasTitle', 'HasSocialNet', 'HasCopyrightInfo']\n",
        "\n",
        "# Pipeline preprocessing\n",
        "preprocessor = ColumnTransformer(\n",
        "    transformers=[\n",
        "        ('num', Pipeline([\n",
        "            ('imputer', SimpleImputer(strategy='most_frequent')),\n",
        "            ('scaler', StandardScaler()),\n",
        "            \n",
        "        ]), numerical_columns),\n",
        "        ('cat', Pipeline([\n",
        "            ('imputer', SimpleImputer(strategy='mean')),\n",
        "            ('encoder', OneHotEncoder(handle_unknown='ignore', sparse_output=False)),\n",
        "            \n",
        "            \n",
        "        ]), categorical_columns)\n",
        "    ]\n",
        ")\n",
        "\n",
        "\n",
        "pipeline = Pipeline([\n",
        "    ('preprocessor', preprocessor)\n",
        "])\n",
        "# Preprocessing data\n",
        "pipeline.fit(X_train)\n",
        "X_train_transformed = pipeline.transform(X_train)\n",
        "X_train_transformed = pd.DataFrame(X_train_transformed).apply(pd.to_numeric, errors='coerce').to_numpy()\n",
        "\n",
        "X_val_transformed = pipeline.transform(X_val)\n",
        "X_val_transformed = pd.DataFrame(X_val_transformed).apply(pd.to_numeric, errors='coerce').to_numpy()\n",
        "\n",
        "X_test_transformed = pipeline.transform(X_test)\n",
        "X_test_transformed = pd.DataFrame(X_test_transformed).apply(pd.to_numeric, errors='coerce').to_numpy()\n",
        "\n",
        "# Load saved model\n",
        "gnb = SaveModelLoader.load('gnb.pkl')\n",
        "\n",
        "# Predict on validation data\n",
        "y_val_pred = gnb.predict(X_val_transformed)\n",
        "accuracy = np.mean(y_val_pred == y_val)\n",
        "print(f\"Akurasi Gaussian Naive Bayes pada data validasi: {accuracy:.2f}\")\n",
        "\n",
        "# Prediksi pada data validasi\n",
        "y_val_pred = gnb.predict(X_val_transformed)\n",
        "accuracy = gnb.score(X_val_transformed, y_val)\n",
        "print(f\"Akurasi dengan Manhattan distance: {accuracy}\")\n",
        "\n",
        "# Laporan performa\n",
        "print(classification_report(y_val, y_val_pred))\n",
        "f1_macro = f1_score(y_val, y_val_pred, average='macro')\n",
        "print(f\"F1 Score (Macro Average) on Validation Set: {f1_macro}\")\n",
        "\n",
        "# Prediksi pada data test\n",
        "y_test_pred = gnb.predict(X_test_transformed)\n",
        "\n",
        "# Menyusun hasil submission\n",
        "submission_df = pd.DataFrame({\n",
        "    'id': df_test['id'],  # Menggunakan ID dari df_test\n",
        "    'label': y_test_pred  # Label hasil prediksi\n",
        "})\n",
        "\n",
        "# Simpan hasil submission\n",
        "submission_filepath = 'submission_result.csv'\n",
        "submission_df.to_csv(submission_filepath, index=False)\n",
        "print(f\"Submission result saved to: {submission_filepath}\")\n"
      ]
    },
    {
      "cell_type": "code",
      "execution_count": 152,
      "metadata": {},
      "outputs": [
        {
          "name": "stdout",
          "output_type": "stream",
          "text": [
            "Akurasi dengan Manhattan distance: 0.9865745521883124\n",
            "              precision    recall  f1-score   support\n",
            "\n",
            "           0       0.96      0.85      0.91      2111\n",
            "           1       0.99      1.00      0.99     25970\n",
            "\n",
            "    accuracy                           0.99     28081\n",
            "   macro avg       0.98      0.93      0.95     28081\n",
            "weighted avg       0.99      0.99      0.99     28081\n",
            "\n",
            "F1 Score (Macro Average) on Validation Set: 0.9490849131451483\n",
            "Submission result saved to: submission_result.csv\n"
          ]
        }
      ],
      "source": [
        "# Load data test halo\n",
        "df_test = pd.read_csv('./test.csv')\n",
        "X_test = df_test.copy()\n",
        "\n",
        "#Fitur yang dipilih\n",
        "numerical_columns = ['URLLength', 'DomainLength', 'CharContinuationRate', 'TLDLegitimateProb', 'URLCharProb', 'TLDLength',\n",
        "                      'NoOfSubDomain', 'NoOfObfuscatedChar', 'ObfuscationRatio', 'NoOfLettersInURL', 'LetterRatioInURL',\n",
        "                      'NoOfDegitsInURL', 'DegitRatioInURL', 'NoOfEqualsInURL', 'NoOfQMarkInURL', 'NoOfAmpersandInURL',\n",
        "                      'NoOfOtherSpecialCharsInURL', 'SpacialCharRatioInURL', 'LineOfCode', 'LargestLineLength',\n",
        "                      'DomainTitleMatchScore', 'URLTitleMatchScore', 'NoOfPopup', 'NoOfiFrame', 'NoOfImage', 'NoOfCSS',\n",
        "                      'NoOfJS', 'NoOfSelfRef', 'NoOfEmptyRef', 'NoOfExternalRef']\n",
        "categorical_columns = ['IsHTTPS', 'HasTitle', 'HasSocialNet', 'HasCopyrightInfo']\n",
        "\n",
        "# Pipeline preprocessing\n",
        "preprocessor = ColumnTransformer(\n",
        "    transformers=[\n",
        "        ('num', Pipeline([\n",
        "            # use imputer to fill missing values with median\n",
        "            ('imputer', SimpleImputer(strategy='most_frequent')),\n",
        "            ('scaler', StandardScaler()),\n",
        "        ]), numerical_columns),\n",
        "        ('cat', Pipeline([\n",
        "            ('imputer', SimpleImputer(strategy='mean')),\n",
        "            ('encoder', OneHotEncoder(handle_unknown='ignore', sparse_output=False)),\n",
        "            \n",
        "        ]), categorical_columns)\n",
        "    ]\n",
        ")\n",
        "\n",
        "pipeline = Pipeline([\n",
        "    ('preprocessor', preprocessor)\n",
        "])\n",
        "\n",
        "# Preprocessing data\n",
        "pipeline.fit(X_train)\n",
        "X_train_transformed = pipeline.transform(X_train)\n",
        "X_train_transformed = pd.DataFrame(X_train_transformed, columns=pipeline.named_steps['preprocessor'].get_feature_names_out())\n",
        "\n",
        "X_val_transformed = pipeline.transform(X_val)\n",
        "X_val_transformed = pd.DataFrame(X_val_transformed, columns=pipeline.named_steps['preprocessor'].get_feature_names_out())\n",
        "\n",
        "X_test_transformed = pipeline.transform(X_test)\n",
        "X_test_transformed = pd.DataFrame(X_test_transformed, columns=pipeline.named_steps['preprocessor'].get_feature_names_out())\n",
        "\n",
        "# Pastikan semua data numerik\n",
        "X_train_transformed = X_train_transformed.apply(pd.to_numeric, errors='coerce')\n",
        "X_val_transformed = X_val_transformed.apply(pd.to_numeric, errors='coerce')\n",
        "X_test_transformed = X_test_transformed.apply(pd.to_numeric, errors='coerce')\n",
        "\n",
        "# Definisi KNN model\n",
        "knn_euclidean = KNeighborsClassifier(n_neighbors=5, metric='manhattan')\n",
        "knn_euclidean.fit(X_train_transformed, y_train)\n",
        "\n",
        "\n",
        "# Prediksi pada data validasi\n",
        "y_val_pred = knn_euclidean.predict(X_val_transformed)\n",
        "accuracy_euclidean = knn_euclidean.score(X_val_transformed, y_val)\n",
        "print(f\"Akurasi dengan Manhattan distance: {accuracy_euclidean}\")\n",
        "\n",
        "# Laporan performa\n",
        "print(classification_report(y_val, y_val_pred))\n",
        "f1_macro = f1_score(y_val, y_val_pred, average='macro')\n",
        "print(f\"F1 Score (Macro Average) on Validation Set: {f1_macro}\")\n",
        "\n",
        "# Prediksi pada data test\n",
        "y_test_pred = knn_euclidean.predict(X_test_transformed)\n",
        "\n",
        "# Menyusun hasil submission\n",
        "submission_df = pd.DataFrame({\n",
        "    'id': df_test['id'],  # Menggunakan ID dari df_test\n",
        "    'label': y_test_pred  # Label hasil prediksi\n",
        "})\n",
        "\n",
        "# Simpan hasil submission\n",
        "submission_filepath = 'submission_result.csv'\n",
        "submission_df.to_csv(submission_filepath, index=False)\n",
        "print(f\"Submission result saved to: {submission_filepath}\")\n"
      ]
    },
    {
      "cell_type": "markdown",
      "metadata": {
        "id": "R-jXvKOpLfHi"
      },
      "source": [
        "# 6. Error Analysis\n",
        "\n",
        "Based on all the process you have done until the modeling and evaluation step, write an analysis to support each steps you have taken to solve this problem. Write the analysis using the markdown block. Some questions that may help you in writing the analysis:\n",
        "\n",
        "- Does my model perform better in predicting one class than the other? If so, why is that?\n",
        "- To each models I have tried, which performs the best and what could be the reason?\n",
        "- Is it better for me to impute or drop the missing data? Why?\n",
        "- Does feature scaling help improve my model performance?\n",
        "- etc..."
      ]
    },
    {
      "cell_type": "markdown",
      "metadata": {
        "id": "tWL3nEAELfHj"
      },
      "source": [
        "## 1. Does my model perform better in predicting one class than the other? If so, why is that?"
      ]
    },
    {
      "cell_type": "markdown",
      "metadata": {},
      "source": [
        " Ya, model lebih baik dalam memprediksi kelas positif (Kelas 1) karena distribusi data tidak seimbang (Kelas 1 lebih dominan) dan fitur lebih relevan untuk kelas positif. Selain itu, penerapan fungsi yang berbeda baik pada implementasi algoritma scratch dan algoritma scikit-learn, seperti pemanggilan fungsi _get_neighbors(x, self_test) yang merupakan proses pengurutan terhadap nilai tertangga terdekat yang didapat juga. Hal tersebut justru juga akan mempengaruhi hasil prediksi model yang telah dibuat.\n"
      ]
    },
    {
      "cell_type": "markdown",
      "metadata": {},
      "source": [
        "## 2. To each models I have tried, which performs the best and what could be the reason?"
      ]
    },
    {
      "cell_type": "markdown",
      "metadata": {},
      "source": [
        "KNN Manhattan adalah yang terbaik karena memiliki TP tertinggi (2596) dan FP serta FN terendah (49 dan 2). Manhattan Distance lebih stabil terhadap outlier dibanding metode jarak lainnya. Selain itu, pada prediksi model Manhattan nilai akurasi yang didapatkan pada implementasi algoritma KNN from scratch senilai 96% sedangkan pada library scikit-learn sebesar 99%. Hal tersebut juga menunjukkan adanya konsistensi terhadap penerapan implementasi algoritma yang telah dibuat."
      ]
    },
    {
      "cell_type": "code",
      "execution_count": null,
      "metadata": {},
      "outputs": [],
      "source": [
        "## 3. Is it better for me to impute or drop the missing data? Why?"
      ]
    },
    {
      "cell_type": "markdown",
      "metadata": {},
      "source": [
        "Imputasi lebih baik karena menghapus data dapat mengurangi jumlah data signifikan, terutama dalam dataset dengan distribusi tidak seimbang. Selain itu juga, melalui imputasi data dapat membuat performa model menjadi lebih baik dan akurat sebab apabila kita melakukan drop terhadap keseluruhan missing data dengan jumlah proporsi yang cukup banyak pada dataset yang sedang diolah, maka dapat secara langsung merusak performa model. Selain itu juga, melalui teknik imputasi yang dilakukan seperti penerapan mean, sum, ataupun median untuk menggantikan missing value pada dataset yang ada juga dapat mendukung tingkat persentase akurasi yang akan dihasilkan oleh model yang telah dibuat."
      ]
    },
    {
      "cell_type": "markdown",
      "metadata": {},
      "source": [
        "## 4. Does feature scaling help improve my model performance?"
      ]
    },
    {
      "cell_type": "markdown",
      "metadata": {},
      "source": [
        "Berdasarkan hasil uji coba yang telah kami lakukan, feature scaling sangat membantu persentase akurasi model, khususnya KNN karena melalui penerapan feature scaling akan sangat mempengaruhi performa model karena membuat perhitungan jarak menjadi lebih konsisten antar fitur yang telah diseleksi sebelumnya. Akan tetapi, penggunaan feature scaling tidak terlalu mempengaruhi performa model Gaussian Naive Bayes sebab proses perhitungan yang dilakukan oleh naive bayes berdasarkan distribusi Gaussian dari fitur untuk setiap kelas"
      ]
    }
  ],
  "metadata": {
    "colab": {
      "provenance": []
    },
    "kernelspec": {
      "display_name": "3.10.0",
      "language": "python",
      "name": "python3"
    },
    "language_info": {
      "codemirror_mode": {
        "name": "ipython",
        "version": 3
      },
      "file_extension": ".py",
      "mimetype": "text/x-python",
      "name": "python",
      "nbconvert_exporter": "python",
      "pygments_lexer": "ipython3",
      "version": "3.10.0"
    }
  },
  "nbformat": 4,
  "nbformat_minor": 0
}
